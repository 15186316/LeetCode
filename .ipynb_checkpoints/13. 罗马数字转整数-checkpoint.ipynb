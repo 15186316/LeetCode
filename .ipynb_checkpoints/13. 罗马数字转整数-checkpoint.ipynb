{
 "cells": [
  {
   "cell_type": "code",
   "execution_count": 33,
   "id": "0e49ffe4",
   "metadata": {},
   "outputs": [],
   "source": [
    "s = \"MCMXCIV\""
   ]
  },
  {
   "cell_type": "code",
   "execution_count": 38,
   "id": "1ebf9cd9",
   "metadata": {},
   "outputs": [],
   "source": [
    "class Solution:\n",
    "    def romanToInt(self, s: str) -> int:\n",
    "        # 字典讲罗马数字与数字对应\n",
    "        dic = {\"I\":1,\"V\":5,\"X\":10,\"L\":50,\"C\":100,\"D\":500,\"M\":1000}、\n",
    "        # 将结果初始化为最后一个数字，因为最后一个数字是在最右边，不存在属于特例的可能\n",
    "        res = dic[s[-1]]\n",
    "        # 遍历字符串到倒数第二个字符，因为如果遍历到最后的话判断后一个字符与前一个字符的大小会产生越界。\n",
    "        for i in range(len(s)-1): \n",
    "            更新结果（res） 如果当前字符小于后一个字符，就减去当前字符的值，否则相加\n",
    "            res += -dic[s[i]] if dic[s[i+1]] > dic[s[i]] else dic[s[i]]\n",
    "        return res"
   ]
  },
  {
   "cell_type": "code",
   "execution_count": 39,
   "id": "5b15253a",
   "metadata": {},
   "outputs": [
    {
     "data": {
      "text/plain": [
       "1994"
      ]
     },
     "execution_count": 39,
     "metadata": {},
     "output_type": "execute_result"
    }
   ],
   "source": [
    "Solution().romanToInt(s)"
   ]
  },
  {
   "cell_type": "code",
   "execution_count": null,
   "id": "c3308a5a",
   "metadata": {},
   "outputs": [],
   "source": []
  }
 ],
 "metadata": {
  "kernelspec": {
   "display_name": "Python 3 (ipykernel)",
   "language": "python",
   "name": "python3"
  },
  "language_info": {
   "codemirror_mode": {
    "name": "ipython",
    "version": 3
   },
   "file_extension": ".py",
   "mimetype": "text/x-python",
   "name": "python",
   "nbconvert_exporter": "python",
   "pygments_lexer": "ipython3",
   "version": "3.9.7"
  }
 },
 "nbformat": 4,
 "nbformat_minor": 5
}
